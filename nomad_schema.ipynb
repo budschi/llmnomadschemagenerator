{
 "cells": [
  {
   "cell_type": "code",
   "execution_count": 1,
   "metadata": {},
   "outputs": [],
   "source": [
    "from langchain_community.llms import Ollama\n",
    "llm = Ollama(model=\"llama3:70b\")\n",
    "llm.base_url = 'http://172.28.105.30/backend'\n",
    "eln_schema = llm.invoke(\n",
    "    \"\"\"\n",
    "here is a snippet from cheat sheat to write data schemas in yaml for NOMAD (www.nomad-lab.eu):\n",
    "# Description: This is a cheat sheet for the NOMAD custom schema.\n",
    "#   It is a minimal example of how to define a custom schema.\n",
    "#   It is not intended to be used for real data.\n",
    "#   It is intended to be used as a starting point for defining a custom schema.\n",
    "#   It is intended to be used as a reference for the syntax of the custom schema.\n",
    "\n",
    "# defining the schema:\n",
    "definitions:\n",
    "  name: \"Cheatsheet\"\n",
    "  sections:\n",
    "    CheatSheet: # sections are in pascal case (not mandatory but best practice)\n",
    "      base_sections:\n",
    "      - nomad.datamodel.data.EntryData\n",
    "\n",
    "      # adding quantities:\n",
    "      quantities: # quantities are in snake case (not mandatory but best practice)\n",
    "\n",
    "        # myquantity: test\n",
    "        string:\n",
    "          type: string\n",
    "          description:\n",
    "          m_annotations:\n",
    "            eln:\n",
    "              component: StringEditQuantity\n",
    "\n",
    "        # reference: www.example.com\n",
    "        url_link:\n",
    "          type: string\n",
    "          description:\n",
    "          m_annotations:\n",
    "            eln:\n",
    "              component: URLEditQuantity\n",
    "\n",
    "        # myfloatquantity: 1.0\n",
    "        float:\n",
    "          type: np.float64\n",
    "          description:\n",
    "          m_annotations:\n",
    "            eln:\n",
    "              component: NumberEditQuantity\n",
    "\n",
    "        # myfloatquantitywithunit: 1.0 fs\n",
    "        float_unit:\n",
    "          type: np.float64\n",
    "          unit: second\n",
    "          description:\n",
    "          m_annotations:\n",
    "            eln:\n",
    "              component: NumberEditQuantity\n",
    "              defaultDisplayUnit: \"fs\"\n",
    "\n",
    "        # myfloatquantitywithderivedunit: 1.0 eV\n",
    "        float_derived_unit:\n",
    "          type: np.float64\n",
    "          unit: joule\n",
    "          description:\n",
    "          m_annotations:\n",
    "            eln:\n",
    "              component: NumberEditQuantity\n",
    "              defaultDisplayUnit: \"eV\"\n",
    "\n",
    "        # myfloatquantitycomplexunit: 1.0 mA/ms^2*cm\n",
    "        float_complex_unit:\n",
    "          type: np.float64\n",
    "          unit: ampere / second^2 * meter\n",
    "          description:\n",
    "          m_annotations:\n",
    "            eln:\n",
    "              component: NumberEditQuantity\n",
    "              defaultDisplayUnit: \"milliampere / ms^2 * cm\"\n",
    "\n",
    "        # myfloatquantitywithbounds: 0.0 - 10.0 m\n",
    "        float_with_bounds:\n",
    "          type: np.float64\n",
    "          unit: meter\n",
    "          description:\n",
    "          m_annotations:\n",
    "            eln:\n",
    "              component: NumberEditQuantity\n",
    "              minValue: 0\n",
    "              maxValue: 10\n",
    "\n",
    "        # myintquantity: 1\n",
    "        int:\n",
    "          type: int\n",
    "          description:\n",
    "          m_annotations:\n",
    "            eln:\n",
    "              component: NumberEditQuantity\n",
    "\n",
    "        # myintquantitywithbounds: 0 - 10\n",
    "        int_with_bounds:\n",
    "          type: int\n",
    "          description:\n",
    "          m_annotations:\n",
    "            eln:\n",
    "              component: NumberEditQuantity\n",
    "              minValue: 0\n",
    "              maxValue: 10\n",
    "\n",
    "        # myboolquantity: true\n",
    "        bool:\n",
    "          type: bool\n",
    "          description:\n",
    "          m_annotations:\n",
    "            eln:\n",
    "              component: BoolEditQuantity\n",
    "\n",
    "please use this input to generate a yaml schema for the following input :\n",
    "my afm experiment measures the surface roughnes of a sample. I need to also stare the position of the image in mm and the resolution\n",
    "\n",
    "\"\"\")\n",
    "\n",
    "yaml_file = \"eln.archive.yaml\""
   ]
  },
  {
   "cell_type": "code",
   "execution_count": 2,
   "metadata": {},
   "outputs": [
    {
     "data": {
      "text/plain": [
       "'Based on the provided cheat sheet, here is a YAML schema for the given input:\\n\\n```\\ndefinitions:\\n  name: \"MySinteringSchema\"\\n  sections:\\n    MySinteringSchema: \\n      base_sections:\\n       - nomad.datamodel.data.EntryData\\n\\n      quantities:\\n        temperature:\\n          type: np.float64\\n          unit: degree Celsius\\n          description:\\n          m_annotations:\\n            eln:\\n              component: NumberEditQuantity\\n\\n        process_finished:\\n          type: bool\\n          description:\\n          m_annotations:\\n            eln:\\n              component: BoolEditQuantity\\n\\n        user:\\n          type: string\\n          description:\\n          m_annotations:\\n            eln:\\n              component: StringEditQuantity\\n```\\n\\nNote that I\\'ve used the provided cheat sheet to define the schema. The `temperature` quantity has a unit of `degree Celsius`, but you can change this to whatever unit is appropriate for your use case. Similarly, the `process_finished` quantity is defined as a boolean, and the `user` quantity is defined as a string.'"
      ]
     },
     "execution_count": 2,
     "metadata": {},
     "output_type": "execute_result"
    }
   ],
   "source": [
    "eln_schema"
   ]
  },
  {
   "cell_type": "code",
   "execution_count": 3,
   "metadata": {},
   "outputs": [
    {
     "data": {
      "text/plain": [
       "'\\ndefinitions:\\n  name: \"MySinteringSchema\"\\n  sections:\\n    MySinteringSchema: \\n      base_sections:\\n       - nomad.datamodel.data.EntryData\\n\\n      quantities:\\n        temperature:\\n          type: np.float64\\n          unit: degree Celsius\\n          description:\\n          m_annotations:\\n            eln:\\n              component: NumberEditQuantity\\n\\n        process_finished:\\n          type: bool\\n          description:\\n          m_annotations:\\n            eln:\\n              component: BoolEditQuantity\\n\\n        user:\\n          type: string\\n          description:\\n          m_annotations:\\n            eln:\\n              component: StringEditQuantity\\n'"
      ]
     },
     "execution_count": 3,
     "metadata": {},
     "output_type": "execute_result"
    }
   ],
   "source": [
    "eln_schema_clean = eln_schema.split('```')[1]\n",
    "eln_schema_clean"
   ]
  },
  {
   "cell_type": "code",
   "execution_count": 4,
   "metadata": {},
   "outputs": [],
   "source": [
    "import yaml\n",
    "\n",
    "# Assuming 'eln_schema' contains your YAML data as a string\n",
    "yaml_file = 'output.archive.yaml'\n",
    "\n",
    "with open(yaml_file, 'w') as file:\n",
    "    data = yaml.load(eln_schema_clean, Loader=yaml.FullLoader)  # Use FullLoader to parse the YAML\n",
    "    yaml.dump(data, file, default_flow_style=False)\n"
   ]
  },
  {
   "cell_type": "code",
   "execution_count": 5,
   "metadata": {},
   "outputs": [
    {
     "data": {
      "text/plain": [
       "'definitions:\\n  name: \"MyExperiment\"\\n  sections:\\n    MyExperiment:\\n      base_sections:\\n       - nomad.datamodel.data.EntryData\\n      quantities:\\n        pressure:\\n          type: np.float64\\n          unit: mbar\\n          description:\\n          m_annotations:\\n            eln:\\n              component: NumberEditQuantity'"
      ]
     },
     "execution_count": 51,
     "metadata": {},
     "output_type": "execute_result"
    }
   ],
   "source": [
    "test"
   ]
  },
  {
   "cell_type": "code",
   "execution_count": 55,
   "metadata": {},
   "outputs": [],
   "source": [
    "with open('output2.schema.archive.yaml', 'w') as file:\n",
    "    data = yaml.load(test, Loader=yaml.FullLoader)  # Use FullLoader to parse the YAML\n",
    "    yaml.dump(data, file, default_flow_style=False)\n",
    "#with open('output2.schema.archive.yaml', 'w') as file:\n",
    "#        yaml.dump(test, file, loader=yaml.FullLoader)"
   ]
  },
  {
   "cell_type": "code",
   "execution_count": null,
   "metadata": {},
   "outputs": [],
   "source": [
    "st.title('Invoke Chain App')\n",
    "\n",
    "# Text input field\n",
    "user_input = st.text_input(\"Please enter your input:\")\n",
    "\n",
    "# Button\n",
    "if st.button('Invoke Chain'):\n",
    "    # Call the invokechain function with the user's input\n",
    "    result = invokechain(user_input)\n",
    "    result = yaml.safe_load(ast.literal_eval(result))\n",
    "    with open('output.schema.archive.yaml', 'w') as file:\n",
    "        yaml.dump(result, file)\n",
    "    # Display the result\n",
    "    st.write(\"``` \\n\" + result)\n",
    "\n"
   ]
  },
  {
   "cell_type": "code",
   "execution_count": 77,
   "metadata": {},
   "outputs": [
    {
     "data": {
      "text/plain": [
       "EntryArchive(metadata, definitions)"
      ]
     },
     "execution_count": 77,
     "metadata": {},
     "output_type": "execute_result"
    }
   ],
   "source": [
    "archives[0]."
   ]
  },
  {
   "cell_type": "code",
   "execution_count": 86,
   "metadata": {},
   "outputs": [
    {
     "name": "stderr",
     "output_type": "stream",
     "text": [
      "parsing was not successful (parser=parsers/archive, exc_info='degree_celsius' is not defined in the unit registry)\n"
     ]
    },
    {
     "name": "stdout",
     "output_type": "stream",
     "text": [
      "An error occurred: 'degree_celsius' is not defined in the unit registry\n"
     ]
    }
   ],
   "source": [
    "error = None\n",
    "try:\n",
    "    # Replace this with the actual parse command\n",
    "    parse('output.schema.archive.yaml')\n",
    "except Exception as e:\n",
    "    error = e\n",
    "    print(f\"An error occurred: {error}\")"
   ]
  },
  {
   "cell_type": "code",
   "execution_count": 87,
   "metadata": {},
   "outputs": [
    {
     "data": {
      "text/plain": [
       "pint.errors.UndefinedUnitError('degree_celsius')"
      ]
     },
     "execution_count": 87,
     "metadata": {},
     "output_type": "execute_result"
    }
   ],
   "source": [
    "error"
   ]
  },
  {
   "cell_type": "code",
   "execution_count": 84,
   "metadata": {},
   "outputs": [
    {
     "name": "stderr",
     "output_type": "stream",
     "text": [
      "parsing was not successful (parser=parsers/archive, exc_info='bullshit' is not defined in the unit registry)\n"
     ]
    },
    {
     "name": "stdout",
     "output_type": "stream",
     "text": [
      "Traceback (most recent call last):\n",
      "  File \"__init__.pxd\", line 942, in numpy.import_array\n",
      "RuntimeError: module compiled against API version 0x10 but this version of numpy is 0xf\n",
      "\n",
      "During handling of the above exception, another exception occurred:\n",
      "\n",
      "Traceback (most recent call last):\n",
      "  File \"/home/rubel/NOMAD-FAIRmat/GH/llm_heckathon/llmnomadschemagenerator/.schema11/bin/nomad\", line 5, in <module>\n",
      "    from nomad.cli import run_cli\n",
      "  File \"/home/rubel/NOMAD-FAIRmat/GH/llm_heckathon/llmnomadschemagenerator/.schema11/lib/python3.11/site-packages/nomad/cli/__init__.py\", line 27, in <module>\n",
      "    from . import dev, parse, client, admin  # noqa\n",
      "    ^^^^^^^^^^^^^^^^^^^^^^^^^^^^^^^^^^^^^^^\n",
      "  File \"/home/rubel/NOMAD-FAIRmat/GH/llm_heckathon/llmnomadschemagenerator/.schema11/lib/python3.11/site-packages/nomad/cli/dev.py\", line 25, in <module>\n",
      "    from nomad.metainfo.elasticsearch_extension import schema_separator\n",
      "  File \"/home/rubel/NOMAD-FAIRmat/GH/llm_heckathon/llmnomadschemagenerator/.schema11/lib/python3.11/site-packages/nomad/metainfo/__init__.py\", line 32, in <module>\n",
      "    from .metainfo import (\n",
      "  File \"/home/rubel/NOMAD-FAIRmat/GH/llm_heckathon/llmnomadschemagenerator/.schema11/lib/python3.11/site-packages/nomad/metainfo/metainfo.py\", line 52, in <module>\n",
      "    import pandas as pd\n",
      "  File \"/home/rubel/NOMAD-FAIRmat/GH/llm_heckathon/llmnomadschemagenerator/.schema11/lib/python3.11/site-packages/pandas/__init__.py\", line 22, in <module>\n",
      "    from pandas.compat import is_numpy_dev as _is_numpy_dev  # pyright: ignore # noqa:F401\n",
      "    ^^^^^^^^^^^^^^^^^^^^^^^^^^^^^^^^^^^^^^^^^^^^^^^^^^^^^^^\n",
      "  File \"/home/rubel/NOMAD-FAIRmat/GH/llm_heckathon/llmnomadschemagenerator/.schema11/lib/python3.11/site-packages/pandas/compat/__init__.py\", line 18, in <module>\n",
      "    from pandas.compat.numpy import (\n",
      "  File \"/home/rubel/NOMAD-FAIRmat/GH/llm_heckathon/llmnomadschemagenerator/.schema11/lib/python3.11/site-packages/pandas/compat/numpy/__init__.py\", line 4, in <module>\n",
      "    from pandas.util.version import Version\n",
      "  File \"/home/rubel/NOMAD-FAIRmat/GH/llm_heckathon/llmnomadschemagenerator/.schema11/lib/python3.11/site-packages/pandas/util/__init__.py\", line 2, in <module>\n",
      "    from pandas.util._decorators import (  # noqa:F401\n",
      "  File \"/home/rubel/NOMAD-FAIRmat/GH/llm_heckathon/llmnomadschemagenerator/.schema11/lib/python3.11/site-packages/pandas/util/_decorators.py\", line 14, in <module>\n",
      "    from pandas._libs.properties import cache_readonly\n",
      "  File \"/home/rubel/NOMAD-FAIRmat/GH/llm_heckathon/llmnomadschemagenerator/.schema11/lib/python3.11/site-packages/pandas/_libs/__init__.py\", line 13, in <module>\n",
      "    from pandas._libs.interval import Interval\n",
      "  File \"pandas/_libs/interval.pyx\", line 1, in init pandas._libs.interval\n",
      "  File \"pandas/_libs/hashtable.pyx\", line 1, in init pandas._libs.hashtable\n",
      "  File \"pandas/_libs/missing.pyx\", line 1, in init pandas._libs.missing\n",
      "  File \"/home/rubel/NOMAD-FAIRmat/GH/llm_heckathon/llmnomadschemagenerator/.schema11/lib/python3.11/site-packages/pandas/_libs/tslibs/__init__.py\", line 36, in <module>\n",
      "    from pandas._libs.tslibs import dtypes\n",
      "  File \"pandas/_libs/tslibs/dtypes.pyx\", line 1, in init pandas._libs.tslibs.dtypes\n",
      "  File \"pandas/_libs/tslibs/np_datetime.pyx\", line 28, in init pandas._libs.tslibs.np_datetime\n",
      "  File \"__init__.pxd\", line 944, in numpy.import_array\n",
      "ImportError: numpy.core.multiarray failed to import\n"
     ]
    }
   ],
   "source": [
    "!nomad parse output.archive.yaml --show-archive"
   ]
  },
  {
   "cell_type": "code",
   "execution_count": 6,
   "metadata": {},
   "outputs": [],
   "source": [
    "documents= \"\"\"\n",
    "here is a snippet from cheat sheat to write data schemas in yaml for NOMAD (www.nomad-lab.eu). Use this to generate data schemas from the user prompts:\n",
    "# Description: This is a cheat sheet for the NOMAD custom schema.\n",
    "#   It is a minimal example of how to define a custom schema.\n",
    "#   It is not intended to be used for real data.\n",
    "#   It is intended to be used as a starting point for defining a custom schema.\n",
    "#   It is intended to be used as a reference for the syntax of the custom schema.\n",
    "\n",
    "# defining the schema:\n",
    "definitions:\n",
    "  name: \"Cheatsheet\"\n",
    "  sections:\n",
    "    CheatSheet: # sections are in pascal case (not mandatory but best practice)\n",
    "      base_sections:\n",
    "      - nomad.datamodel.data.EntryData\n",
    "\n",
    "      # adding quantities:\n",
    "      quantities: # quantities are in snake case (not mandatory but best practice)\n",
    "\n",
    "        # myquantity: test\n",
    "        string:\n",
    "          type: string\n",
    "          description:\n",
    "          m_annotations:\n",
    "            eln:\n",
    "              component: StringEditQuantity\n",
    "\n",
    "        # reference: www.example.com\n",
    "        url_link:\n",
    "          type: string\n",
    "          description:\n",
    "          m_annotations:\n",
    "            eln:\n",
    "              component: URLEditQuantity\n",
    "\n",
    "        # myfloatquantity: 1.0\n",
    "        float:\n",
    "          type: np.float64\n",
    "          description:\n",
    "          m_annotations:\n",
    "            eln:\n",
    "              component: NumberEditQuantity\n",
    "\n",
    "        # myfloatquantitywithunit: 1.0 fs\n",
    "        float_unit:\n",
    "          type: np.float64\n",
    "          unit: second\n",
    "          description:\n",
    "          m_annotations:\n",
    "            eln:\n",
    "              component: NumberEditQuantity\n",
    "              defaultDisplayUnit: \"fs\"\n",
    "\n",
    "        # myfloatquantitywithderivedunit: 1.0 eV\n",
    "        float_derived_unit:\n",
    "          type: np.float64\n",
    "          unit: joule\n",
    "          description:\n",
    "          m_annotations:\n",
    "            eln:\n",
    "              component: NumberEditQuantity\n",
    "              defaultDisplayUnit: \"eV\"\n",
    "\n",
    "        # myfloatquantitycomplexunit: 1.0 mA/ms^2*cm\n",
    "        float_complex_unit:\n",
    "          type: np.float64\n",
    "          unit: ampere / second^2 * meter\n",
    "          description:\n",
    "          m_annotations:\n",
    "            eln:\n",
    "              component: NumberEditQuantity\n",
    "              defaultDisplayUnit: \"milliampere / ms^2 * cm\"\n",
    "\n",
    "        # myfloatquantitywithbounds: 0.0 - 10.0 m\n",
    "        float_with_bounds:\n",
    "          type: np.float64\n",
    "          unit: meter\n",
    "          description:\n",
    "          m_annotations:\n",
    "            eln:\n",
    "              component: NumberEditQuantity\n",
    "              minValue: 0\n",
    "              maxValue: 10\n",
    "\n",
    "        # myintquantity: 1\n",
    "        int:\n",
    "          type: int\n",
    "          description:\n",
    "          m_annotations:\n",
    "            eln:\n",
    "              component: NumberEditQuantity\n",
    "\n",
    "        # myintquantitywithbounds: 0 - 10\n",
    "        int_with_bounds:\n",
    "          type: int\n",
    "          description:\n",
    "          m_annotations:\n",
    "            eln:\n",
    "              component: NumberEditQuantity\n",
    "              minValue: 0\n",
    "              maxValue: 10\n",
    "\n",
    "        # myboolquantity: true\n",
    "        bool:\n",
    "          type: bool\n",
    "          description:\n",
    "          m_annotations:\n",
    "            eln:\n",
    "              component: BoolEditQuantity\n",
    "\"\"\""
   ]
  },
  {
   "cell_type": "code",
   "execution_count": 7,
   "metadata": {},
   "outputs": [
    {
     "data": {
      "text/plain": [
       "'\\nhere is a snippet from cheat sheat to write data schemas in yaml for NOMAD (www.nomad-lab.eu). Use this to generate data schemas from the user prompts:\\n# Description: This is a cheat sheet for the NOMAD custom schema.\\n#   It is a minimal example of how to define a custom schema.\\n#   It is not intended to be used for real data.\\n#   It is intended to be used as a starting point for defining a custom schema.\\n#   It is intended to be used as a reference for the syntax of the custom schema.\\n\\n# defining the schema:\\ndefinitions:\\n  name: \"Cheatsheet\"\\n  sections:\\n    CheatSheet: # sections are in pascal case (not mandatory but best practice)\\n      base_sections:\\n      - nomad.datamodel.data.EntryData\\n\\n      # adding quantities:\\n      quantities: # quantities are in snake case (not mandatory but best practice)\\n\\n        # myquantity: test\\n        string:\\n          type: string\\n          description:\\n          m_annotations:\\n            eln:\\n              component: StringEditQuantity\\n\\n        # reference: www.example.com\\n        url_link:\\n          type: string\\n          description:\\n          m_annotations:\\n            eln:\\n              component: URLEditQuantity\\n\\n        # myfloatquantity: 1.0\\n        float:\\n          type: np.float64\\n          description:\\n          m_annotations:\\n            eln:\\n              component: NumberEditQuantity\\n\\n        # myfloatquantitywithunit: 1.0 fs\\n        float_unit:\\n          type: np.float64\\n          unit: second\\n          description:\\n          m_annotations:\\n            eln:\\n              component: NumberEditQuantity\\n              defaultDisplayUnit: \"fs\"\\n\\n        # myfloatquantitywithderivedunit: 1.0 eV\\n        float_derived_unit:\\n          type: np.float64\\n          unit: joule\\n          description:\\n          m_annotations:\\n            eln:\\n              component: NumberEditQuantity\\n              defaultDisplayUnit: \"eV\"\\n\\n        # myfloatquantitycomplexunit: 1.0 mA/ms^2*cm\\n        float_complex_unit:\\n          type: np.float64\\n          unit: ampere / second^2 * meter\\n          description:\\n          m_annotations:\\n            eln:\\n              component: NumberEditQuantity\\n              defaultDisplayUnit: \"milliampere / ms^2 * cm\"\\n\\n        # myfloatquantitywithbounds: 0.0 - 10.0 m\\n        float_with_bounds:\\n          type: np.float64\\n          unit: meter\\n          description:\\n          m_annotations:\\n            eln:\\n              component: NumberEditQuantity\\n              minValue: 0\\n              maxValue: 10\\n\\n        # myintquantity: 1\\n        int:\\n          type: int\\n          description:\\n          m_annotations:\\n            eln:\\n              component: NumberEditQuantity\\n\\n        # myintquantitywithbounds: 0 - 10\\n        int_with_bounds:\\n          type: int\\n          description:\\n          m_annotations:\\n            eln:\\n              component: NumberEditQuantity\\n              minValue: 0\\n              maxValue: 10\\n\\n        # myboolquantity: true\\n        bool:\\n          type: bool\\n          description:\\n          m_annotations:\\n            eln:\\n              component: BoolEditQuantity\\n'"
      ]
     },
     "execution_count": 7,
     "metadata": {},
     "output_type": "execute_result"
    }
   ],
   "source": [
    "documents"
   ]
  },
  {
   "cell_type": "code",
   "execution_count": null,
   "metadata": {},
   "outputs": [],
   "source": [
    "#import dotenv\n",
    "#from langchain_openai import ChatOpenAI\n",
    "from langchain_community.llms import Ollama\n",
    "\n",
    "from langchain.prompts import (\n",
    "    PromptTemplate,\n",
    "    SystemMessagePromptTemplate,\n",
    "    HumanMessagePromptTemplate,\n",
    "    ChatPromptTemplate,\n",
    ")\n",
    "\n",
    "llm = Ollama(model=\"llama3:70b\")\n",
    "llm.base_url = 'http://172.28.105.30/backend'\n",
    "\n",
    "review_template_str = \"\"\"here is a snippet from cheat sheat to write data schemas in yaml for NOMAD (www.nomad-lab.eu). Use this to generate data schemas from the user prompts:\n",
    "# Description: This is a cheat sheet for the NOMAD custom schema.\n",
    "#   It is a minimal example of how to define a custom schema.\n",
    "#   It is not intended to be used for real data.\n",
    "#   It is intended to be used as a starting point for defining a custom schema.\n",
    "#   It is intended to be used as a reference for the syntax of the custom schema.\n",
    "\n",
    "# defining the schema:\n",
    "definitions:\n",
    "  name: \"Cheatsheet\"\n",
    "  sections:\n",
    "    CheatSheet: # sections are in pascal case (not mandatory but best practice)\n",
    "      base_sections:\n",
    "      - nomad.datamodel.data.EntryData\n",
    "\n",
    "      # adding quantities:\n",
    "      quantities: # quantities are in snake case (not mandatory but best practice)\n",
    "\n",
    "        # myquantity: test\n",
    "        string:\n",
    "          type: string\n",
    "          description:\n",
    "          m_annotations:\n",
    "            eln:\n",
    "              component: StringEditQuantity\n",
    "\n",
    "        # reference: www.example.com\n",
    "        url_link:\n",
    "          type: string\n",
    "          description:\n",
    "          m_annotations:\n",
    "            eln:\n",
    "              component: URLEditQuantity\n",
    "\n",
    "        # myfloatquantity: 1.0\n",
    "        float:\n",
    "          type: np.float64\n",
    "          description:\n",
    "          m_annotations:\n",
    "            eln:\n",
    "              component: NumberEditQuantity\n",
    "\n",
    "        # myfloatquantitywithunit: 1.0 fs\n",
    "        float_unit:\n",
    "          type: np.float64\n",
    "          unit: second\n",
    "          description:\n",
    "          m_annotations:\n",
    "            eln:\n",
    "              component: NumberEditQuantity\n",
    "              defaultDisplayUnit: \"fs\"\n",
    "\n",
    "        # myfloatquantitywithderivedunit: 1.0 eV\n",
    "        float_derived_unit:\n",
    "          type: np.float64\n",
    "          unit: joule\n",
    "          description:\n",
    "          m_annotations:\n",
    "            eln:\n",
    "              component: NumberEditQuantity\n",
    "              defaultDisplayUnit: \"eV\"\n",
    "\n",
    "        # myfloatquantitycomplexunit: 1.0 mA/ms^2*cm\n",
    "        float_complex_unit:\n",
    "          type: np.float64\n",
    "          unit: ampere / second^2 * meter\n",
    "          description:\n",
    "          m_annotations:\n",
    "            eln:\n",
    "              component: NumberEditQuantity\n",
    "              defaultDisplayUnit: \"milliampere / ms^2 * cm\"\n",
    "\n",
    "        # myfloatquantitywithbounds: 0.0 - 10.0 m\n",
    "        float_with_bounds:\n",
    "          type: np.float64\n",
    "          unit: meter\n",
    "          description:\n",
    "          m_annotations:\n",
    "            eln:\n",
    "              component: NumberEditQuantity\n",
    "              minValue: 0\n",
    "              maxValue: 10\n",
    "\n",
    "        # myintquantity: 1\n",
    "        int:\n",
    "          type: int\n",
    "          description:\n",
    "          m_annotations:\n",
    "            eln:\n",
    "              component: NumberEditQuantity\n",
    "\n",
    "        # myintquantitywithbounds: 0 - 10\n",
    "        int_with_bounds:\n",
    "          type: int\n",
    "          description:\n",
    "          m_annotations:\n",
    "            eln:\n",
    "              component: NumberEditQuantity\n",
    "              minValue: 0\n",
    "              maxValue: 10\n",
    "\n",
    "        # myboolquantity: true\n",
    "        bool:\n",
    "          type: bool\n",
    "          description:\n",
    "          m_annotations:\n",
    "            eln:\n",
    "              component: BoolEditQuantity\n",
    "\n",
    "{context}\n",
    "\"\"\"\n",
    "\n",
    "review_system_prompt = SystemMessagePromptTemplate(\n",
    "    prompt=PromptTemplate(\n",
    "        input_variables=[\"context\"],\n",
    "        template=review_template_str,\n",
    "    )\n",
    ")\n",
    "\n",
    "review_human_prompt = HumanMessagePromptTemplate(\n",
    "    prompt=PromptTemplate(\n",
    "        input_variables=[\"question\"],\n",
    "        template=\"{question}\",\n",
    "    )\n",
    ")\n",
    "messages = [review_system_prompt, review_human_prompt]\n",
    "\n",
    "review_prompt_template = ChatPromptTemplate(\n",
    "    input_variables=[\"context\", \"question\"],\n",
    "    messages=messages,\n",
    ")\n",
    "\n",
    "#chat_model = ChatOpenAI(model=\"gpt-3.5-turbo-0125\", temperature=0)\n",
    "\n",
    "review_chain = review_prompt_template | llm"
   ]
  },
  {
   "cell_type": "code",
   "execution_count": 2,
   "metadata": {},
   "outputs": [
    {
     "ename": "ModuleNotFoundError",
     "evalue": "No module named 'langchain.retrieval'",
     "output_type": "error",
     "traceback": [
      "\u001b[0;31m---------------------------------------------------------------------------\u001b[0m",
      "\u001b[0;31mModuleNotFoundError\u001b[0m                       Traceback (most recent call last)",
      "Cell \u001b[0;32mIn[2], line 2\u001b[0m\n\u001b[1;32m      1\u001b[0m \u001b[38;5;28;01mfrom\u001b[39;00m \u001b[38;5;21;01mlangchain_community\u001b[39;00m\u001b[38;5;21;01m.\u001b[39;00m\u001b[38;5;21;01mllms\u001b[39;00m \u001b[38;5;28;01mimport\u001b[39;00m Ollama\n\u001b[0;32m----> 2\u001b[0m \u001b[38;5;28;01mfrom\u001b[39;00m \u001b[38;5;21;01mlangchain\u001b[39;00m\u001b[38;5;21;01m.\u001b[39;00m\u001b[38;5;21;01mretrieval\u001b[39;00m \u001b[38;5;28;01mimport\u001b[39;00m SimpleSearchRetriever\n\u001b[1;32m      3\u001b[0m \u001b[38;5;28;01mfrom\u001b[39;00m \u001b[38;5;21;01mlangchain\u001b[39;00m\u001b[38;5;21;01m.\u001b[39;00m\u001b[38;5;21;01mchains\u001b[39;00m \u001b[38;5;28;01mimport\u001b[39;00m RetrievalAugmentedChain\n\u001b[1;32m      4\u001b[0m llm \u001b[38;5;241m=\u001b[39m Ollama(model\u001b[38;5;241m=\u001b[39m\u001b[38;5;124m\"\u001b[39m\u001b[38;5;124mllama3:70b\u001b[39m\u001b[38;5;124m\"\u001b[39m)\n",
      "\u001b[0;31mModuleNotFoundError\u001b[0m: No module named 'langchain.retrieval'"
     ]
    }
   ],
   "source": [
    "from langchain_community.llms import Ollama\n",
    "from langchain.retrieval import SimpleSearchRetriever\n",
    "from langchain.chains import RetrievalAugmentedChain\n",
    "llm = Ollama(model=\"llama3:70b\")\n",
    "llm.base_url = 'http://172.28.105.30/backend'\n",
    "retriever = SimpleSearchRetriever(documents)\n",
    "rag_chain = RetrievalAugmentedChain(lm, retriever)\n",
    "#eln_schema = llm.invoke("
   ]
  },
  {
   "cell_type": "code",
   "execution_count": null,
   "metadata": {},
   "outputs": [],
   "source": [
    "from langchain.llms import HuggingFaceLM\n",
    "from langchain.retrieval import SimpleSearchRetriever\n",
    "from langchain.chains import RetrievalAugmentedChain\n",
    "\n",
    "# Initialize the language model\n",
    "lm = HuggingFaceLM(\"gpt-2\")\n",
    "\n",
    "# Setup the retriever\n",
    "documents = [\n",
    "    {\"text\": \"Document 1 text\", \"metadata\": {\"source\": \"Source A\"}},\n",
    "    {\"text\": \"Document 2 text\", \"metadata\": {\"source\": \"Source B\"}},\n",
    "    # Add more documents as needed\n",
    "]\n",
    "retriever = SimpleSearchRetriever(documents)\n",
    "\n",
    "# Create the RAG chain\n",
    "rag_chain = RetrievalAugmentedChain(lm, retriever)\n",
    "\n",
    "# Use the RAG chain\n",
    "response = rag_chain.run(\"What is the explanation for RAG?\")\n",
    "print(response)\n"
   ]
  },
  {
   "cell_type": "code",
   "execution_count": 32,
   "metadata": {},
   "outputs": [],
   "source": [
    "cheatsheet=    \"\"\"\n",
    "You are a schema generator. Below you will get a schema snippet as input. You should output only the generated schema and no other text!\n",
    "here is a snippet from cheat sheet to write data schemas in yaml for NOMAD (www.nomad-lab.eu):\n",
    "# Description: This is a cheat sheet for the NOMAD custom schema.\n",
    "#   It is a minimal example of how to define a custom schema.\n",
    "#   It is not intended to be used for real data.\n",
    "#   It is intended to be used as a starting point for defining a custom schema.\n",
    "#   It is intended to be used as a reference for the syntax of the custom schema.\n",
    "\n",
    "# defining the schema:\n",
    "definitions:\n",
    "  name: \"Cheatsheet\"\n",
    "  sections:\n",
    "    CheatSheet: # sections are in pascal case (not mandatory but best practice)\n",
    "      base_sections:\n",
    "      - nomad.datamodel.data.EntryData\n",
    "\n",
    "      # adding quantities:\n",
    "      quantities: # quantities are in snake case (not mandatory but best practice)\n",
    "\n",
    "        # myquantity: test\n",
    "        string:\n",
    "          type: string\n",
    "          description:\n",
    "          m_annotations:\n",
    "            eln:\n",
    "              component: StringEditQuantity\n",
    "\n",
    "        # reference: www.example.com\n",
    "        url_link:\n",
    "          type: string\n",
    "          description:\n",
    "          m_annotations:\n",
    "            eln:\n",
    "              component: URLEditQuantity\n",
    "\n",
    "        # myfloatquantity: 1.0\n",
    "        float:\n",
    "          type: np.float64\n",
    "          description:\n",
    "          m_annotations:\n",
    "            eln:\n",
    "              component: NumberEditQuantity\n",
    "\n",
    "        # myfloatquantitywithunit: 1.0 fs\n",
    "        float_unit:\n",
    "          type: np.float64\n",
    "          unit: second\n",
    "          description:\n",
    "          m_annotations:\n",
    "            eln:\n",
    "              component: NumberEditQuantity\n",
    "              defaultDisplayUnit: \"fs\"\n",
    "\n",
    "        # myfloatquantitywithderivedunit: 1.0 eV\n",
    "        float_derived_unit:\n",
    "          type: np.float64\n",
    "          unit: joule\n",
    "          description:\n",
    "          m_annotations:\n",
    "            eln:\n",
    "              component: NumberEditQuantity\n",
    "              defaultDisplayUnit: \"eV\"\n",
    "\n",
    "        # myfloatquantitycomplexunit: 1.0 mA/ms^2*cm\n",
    "        float_complex_unit:\n",
    "          type: np.float64\n",
    "          unit: ampere / second^2 * meter\n",
    "          description:\n",
    "          m_annotations:\n",
    "            eln:\n",
    "              component: NumberEditQuantity\n",
    "              defaultDisplayUnit: \"milliampere / ms^2 * cm\"\n",
    "\n",
    "        # myfloatquantitywithbounds: 0.0 - 10.0 m\n",
    "        float_with_bounds:\n",
    "          type: np.float64\n",
    "          unit: meter\n",
    "          description:\n",
    "          m_annotations:\n",
    "            eln:\n",
    "              component: NumberEditQuantity\n",
    "              minValue: 0\n",
    "              maxValue: 10\n",
    "\n",
    "        # myintquantity: 1\n",
    "        int:\n",
    "          type: int\n",
    "          description:\n",
    "          m_annotations:\n",
    "            eln:\n",
    "              component: NumberEditQuantity\n",
    "\n",
    "        # myintquantitywithbounds: 0 - 10\n",
    "        int_with_bounds:\n",
    "          type: int\n",
    "          description:\n",
    "          m_annotations:\n",
    "            eln:\n",
    "              component: NumberEditQuantity\n",
    "              minValue: 0\n",
    "              maxValue: 10\n",
    "\n",
    "        # myboolquantity: true\n",
    "        bool:\n",
    "          type: bool\n",
    "          description:\n",
    "          m_annotations:\n",
    "            eln:\n",
    "              component: BoolEditQuantity\n",
    "\n",
    "Please use this input to generate a yaml schema for the following input and output only the generated schema in the chat:\n",
    "\"\"\""
   ]
  },
  {
   "cell_type": "code",
   "execution_count": 33,
   "metadata": {},
   "outputs": [
    {
     "data": {
      "text/plain": [
       "'definitions:\\n  name: \"MySinteringSchema\"\\n  sections:\\n    MySintering:\\n      base_sections:\\n       - nomad.datamodel.data.EntryData\\n\\n      quantities:\\n        temperature:\\n          type: np.float64\\n          unit: degree Celsius\\n          description:\\n          m_annotations:\\n            eln:\\n              component: NumberEditQuantity\\n\\n        process_finished:\\n          type: bool\\n          description:\\n          m_annotations:\\n            eln:\\n              component: BoolEditQuantity\\n\\n        user:\\n          type: string\\n          description:\\n          m_annotations:\\n            eln:\\n              component: StringEditQuantity'"
      ]
     },
     "execution_count": 33,
     "metadata": {},
     "output_type": "execute_result"
    }
   ],
   "source": [
    "from langchain_community.llms import Ollama\n",
    "from langchain_core.output_parsers import StrOutputParser\n",
    "from langchain_core.prompts import ChatPromptTemplate\n",
    "llm = Ollama(model=\"llama3:70b\")\n",
    "llm.base_url = 'http://172.28.105.30/backend'\n",
    "\n",
    "prompt = ChatPromptTemplate.from_template(cheatsheet + \"{userpromp}\")\n",
    "output_parser = StrOutputParser()\n",
    "chain = prompt | llm | output_parser\n",
    "chain.invoke({\"userpromp\": \"\"\" \n",
    "MySinteringSchema:\n",
    "  temperature: 34.5°\n",
    "  process_finished: True\n",
    "  user: Sebastian\"\n",
    "              \"\"\"})\n",
    "#eln_schema = llm.invoke(userprompt)\n",
    "#please use this input to generate a yaml schema for the following input :"
   ]
  },
  {
   "cell_type": "code",
   "execution_count": 37,
   "metadata": {},
   "outputs": [
    {
     "data": {
      "text/plain": [
       "ChatPromptValue(messages=[HumanMessage(content='\\nYou are a schema generator. Below you will get a schema snippet as input. You should output only the generated schema and no other text!\\nhere is a snippet from cheat sheet to write data schemas in yaml for NOMAD (www.nomad-lab.eu):\\n# Description: This is a cheat sheet for the NOMAD custom schema.\\n#   It is a minimal example of how to define a custom schema.\\n#   It is not intended to be used for real data.\\n#   It is intended to be used as a starting point for defining a custom schema.\\n#   It is intended to be used as a reference for the syntax of the custom schema.\\n\\n# defining the schema:\\ndefinitions:\\n  name: \"Cheatsheet\"\\n  sections:\\n    CheatSheet: # sections are in pascal case (not mandatory but best practice)\\n      base_sections:\\n      - nomad.datamodel.data.EntryData\\n\\n      # adding quantities:\\n      quantities: # quantities are in snake case (not mandatory but best practice)\\n\\n        # myquantity: test\\n        string:\\n          type: string\\n          description:\\n          m_annotations:\\n            eln:\\n              component: StringEditQuantity\\n\\n        # reference: www.example.com\\n        url_link:\\n          type: string\\n          description:\\n          m_annotations:\\n            eln:\\n              component: URLEditQuantity\\n\\n        # myfloatquantity: 1.0\\n        float:\\n          type: np.float64\\n          description:\\n          m_annotations:\\n            eln:\\n              component: NumberEditQuantity\\n\\n        # myfloatquantitywithunit: 1.0 fs\\n        float_unit:\\n          type: np.float64\\n          unit: second\\n          description:\\n          m_annotations:\\n            eln:\\n              component: NumberEditQuantity\\n              defaultDisplayUnit: \"fs\"\\n\\n        # myfloatquantitywithderivedunit: 1.0 eV\\n        float_derived_unit:\\n          type: np.float64\\n          unit: joule\\n          description:\\n          m_annotations:\\n            eln:\\n              component: NumberEditQuantity\\n              defaultDisplayUnit: \"eV\"\\n\\n        # myfloatquantitycomplexunit: 1.0 mA/ms^2*cm\\n        float_complex_unit:\\n          type: np.float64\\n          unit: ampere / second^2 * meter\\n          description:\\n          m_annotations:\\n            eln:\\n              component: NumberEditQuantity\\n              defaultDisplayUnit: \"milliampere / ms^2 * cm\"\\n\\n        # myfloatquantitywithbounds: 0.0 - 10.0 m\\n        float_with_bounds:\\n          type: np.float64\\n          unit: meter\\n          description:\\n          m_annotations:\\n            eln:\\n              component: NumberEditQuantity\\n              minValue: 0\\n              maxValue: 10\\n\\n        # myintquantity: 1\\n        int:\\n          type: int\\n          description:\\n          m_annotations:\\n            eln:\\n              component: NumberEditQuantity\\n\\n        # myintquantitywithbounds: 0 - 10\\n        int_with_bounds:\\n          type: int\\n          description:\\n          m_annotations:\\n            eln:\\n              component: NumberEditQuantity\\n              minValue: 0\\n              maxValue: 10\\n\\n        # myboolquantity: true\\n        bool:\\n          type: bool\\n          description:\\n          m_annotations:\\n            eln:\\n              component: BoolEditQuantity\\n\\nPlease use this input to generate a yaml schema for the following input and output only the generated schema in the chat:\\n\\nMySinteringSchema:\\n  temperature: 34.5°\\n  process_finished: True\\n  user: Sebastian\"\\n              ')])"
      ]
     },
     "execution_count": 37,
     "metadata": {},
     "output_type": "execute_result"
    }
   ],
   "source": [
    "prompt_value = prompt.invoke({\"userpromp\": \"\"\"\n",
    "MySinteringSchema:\n",
    "  temperature: 34.5°\n",
    "  process_finished: True\n",
    "  user: Sebastian\"\n",
    "              \"\"\"})\n",
    "prompt_value"
   ]
  },
  {
   "cell_type": "code",
   "execution_count": 13,
   "metadata": {},
   "outputs": [
    {
     "ename": "NameError",
     "evalue": "name 'ChatPromptValue' is not defined",
     "output_type": "error",
     "traceback": [
      "\u001b[0;31m---------------------------------------------------------------------------\u001b[0m",
      "\u001b[0;31mNameError\u001b[0m                                 Traceback (most recent call last)",
      "Cell \u001b[0;32mIn[13], line 1\u001b[0m\n\u001b[0;32m----> 1\u001b[0m \u001b[43mChatPromptValue\u001b[49m(messages\u001b[38;5;241m=\u001b[39m[HumanMessage(content\u001b[38;5;241m=\u001b[39m\u001b[38;5;124m'\u001b[39m\u001b[38;5;124mtell me a short joke about ice cream\u001b[39m\u001b[38;5;124m'\u001b[39m)])\n",
      "\u001b[0;31mNameError\u001b[0m: name 'ChatPromptValue' is not defined"
     ]
    }
   ],
   "source": [
    "ChatPromptValue(messages=[HumanMessage(content='tell me a short joke about ice cream')])"
   ]
  },
  {
   "cell_type": "code",
   "execution_count": 6,
   "metadata": {},
   "outputs": [
    {
     "data": {
      "text/plain": [
       "'Based on the provided cheat sheet, here is a YAML schema for your input data:\\n\\n```\\ndefinitions:\\n  name: \"MySinteringSchema\"\\n  sections:\\n    MySinteringData: \\n      base_sections:\\n       - nomad.datamodel.data.EntryData\\n\\n      quantities:\\n        temperature:\\n          type: np.float64\\n          unit: degree Celsius\\n          description:\\n          m_annotations:\\n            eln:\\n              component: NumberEditQuantity\\n              defaultDisplayUnit: \"°\"\\n\\n        process_finished:\\n          type: bool\\n          description:\\n          m_annotations:\\n            eln:\\n              component: BoolEditQuantity\\n\\n        user:\\n          type: string\\n          description:\\n          m_annotations:\\n            eln:\\n              component: StringEditQuantity\\n```\\n\\nThis schema defines a custom schema for your input data, with three quantities:\\n\\n* `temperature`: a floating-point number with units of degrees Celsius\\n* `process_finished`: a boolean value\\n* `user`: a string value\\n\\nNote that I\\'ve assumed the unit of temperature to be degrees Celsius, but you can adjust this as needed.'"
      ]
     },
     "execution_count": 6,
     "metadata": {},
     "output_type": "execute_result"
    }
   ],
   "source": [
    "eln_schema"
   ]
  },
  {
   "cell_type": "code",
   "execution_count": 38,
   "metadata": {},
   "outputs": [
    {
     "name": "stderr",
     "output_type": "stream",
     "text": [
      "2024-05-07 11:47:32.785 \n",
      "  \u001b[33m\u001b[1mWarning:\u001b[0m to view this Streamlit app on a browser, run it with the following\n",
      "  command:\n",
      "\n",
      "    streamlit run /home/brueckner/llm_hackathon/.llmpyenv/lib/python3.9/site-packages/ipykernel_launcher.py [ARGUMENTS]\n"
     ]
    }
   ],
   "source": [
    "# Import the streamlit library\n",
    "import streamlit as st\n",
    "\n",
    "# Title of the app\n",
    "st.title('My First Streamlit App')\n",
    "\n",
    "# Add a button\n",
    "if st.button('Say hello'):\n",
    "   st.write('Hello, Streamlit!')"
   ]
  },
  {
   "cell_type": "code",
   "execution_count": 40,
   "metadata": {},
   "outputs": [
    {
     "name": "stdout",
     "output_type": "stream",
     "text": [
      "\n",
      "Collecting usage statistics. To deactivate, set browser.gatherUsageStats to false.\n",
      "\u001b[0m\n",
      "\u001b[0m\n",
      "\u001b[34m\u001b[1m  You can now view your Streamlit app in your browser.\u001b[0m\n",
      "\u001b[0m\n",
      "\u001b[34m  Network URL: \u001b[0m\u001b[1mhttp://172.26.29.220:8501\u001b[0m\n",
      "\u001b[34m  External URL: \u001b[0m\u001b[1mhttp://141.20.47.154:8501\u001b[0m\n",
      "\u001b[0m\n",
      "NOTE: When using the `ipython kernel` entry point, Ctrl-C will not work.\n",
      "\n",
      "To exit, you will have to explicitly quit this process, by either sending\n",
      "\"quit\" from a client, or using Ctrl-\\ in UNIX-like environments.\n",
      "\n",
      "To read more about this, see https://github.com/ipython/ipython/issues/2049\n",
      "\n",
      "\n",
      "To connect another client to this kernel, use:\n",
      "    --existing kernel-21514.json\n",
      "[IPKernelApp] ERROR | Unable to initialize signal:\n",
      "Traceback (most recent call last):\n",
      "  File \"/home/brueckner/llm_hackathon/.llmpyenv/lib/python3.9/site-packages/ipykernel/kernelapp.py\", line 701, in initialize\n",
      "    self.init_signal()\n",
      "  File \"/home/brueckner/llm_hackathon/.llmpyenv/lib/python3.9/site-packages/ipykernel/kernelapp.py\", line 545, in init_signal\n",
      "    signal.signal(signal.SIGINT, signal.SIG_IGN)\n",
      "  File \"/usr/lib/python3.9/signal.py\", line 56, in signal\n",
      "    handler = _signal.signal(_enum_to_int(signalnum), _enum_to_int(handler))\n",
      "ValueError: signal only works in main thread of the main interpreter\n",
      "2024-05-07 11:50:12.444 Uncaught app exception\n",
      "Traceback (most recent call last):\n",
      "  File \"/home/brueckner/llm_hackathon/.llmpyenv/lib/python3.9/site-packages/streamlit/runtime/scriptrunner/script_runner.py\", line 600, in _run_script\n",
      "    exec(code, module.__dict__)\n",
      "  File \"/home/brueckner/llm_hackathon/.llmpyenv/lib/python3.9/site-packages/ipykernel_launcher.py\", line 18, in <module>\n",
      "    app.launch_new_instance()\n",
      "  File \"/home/brueckner/llm_hackathon/.llmpyenv/lib/python3.9/site-packages/traitlets/config/application.py\", line 1074, in launch_instance\n",
      "    app.initialize(argv)\n",
      "  File \"/home/brueckner/llm_hackathon/.llmpyenv/lib/python3.9/site-packages/traitlets/config/application.py\", line 118, in inner\n",
      "    return method(app, *args, **kwargs)\n",
      "  File \"/home/brueckner/llm_hackathon/.llmpyenv/lib/python3.9/site-packages/ipykernel/kernelapp.py\", line 692, in initialize\n",
      "    self.init_sockets()\n",
      "  File \"/home/brueckner/llm_hackathon/.llmpyenv/lib/python3.9/site-packages/ipykernel/kernelapp.py\", line 325, in init_sockets\n",
      "    assert self.context is None, \"init_sockets cannot be called twice!\"\n",
      "AssertionError: init_sockets cannot be called twice!\n",
      "^C\n"
     ]
    }
   ],
   "source": [
    "!streamlit run /home/brueckner/llm_hackathon/.llmpyenv/lib/python3.9/site-packages/ipykernel_launcher.py"
   ]
  },
  {
   "cell_type": "code",
   "execution_count": null,
   "metadata": {},
   "outputs": [],
   "source": []
  }
 ],
 "metadata": {
  "kernelspec": {
   "display_name": "Python 3 (ipykernel)",
   "language": "python",
   "name": "python3"
  },
  "language_info": {
   "codemirror_mode": {
    "name": "ipython",
    "version": 3
   },
   "file_extension": ".py",
   "mimetype": "text/x-python",
   "name": "python",
   "nbconvert_exporter": "python",
   "pygments_lexer": "ipython3",
   "version": "3.11.9"
  }
 },
 "nbformat": 4,
 "nbformat_minor": 4
}
