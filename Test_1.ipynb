{
 "cells": [
  {
   "cell_type": "code",
   "execution_count": 30,
   "id": "bf59ac19-c94e-4d45-b200-0d8ef548c47f",
   "metadata": {},
   "outputs": [],
   "source": [
    "from langchain.text_splitter import RecursiveCharacterTextSplitter\n",
    "from langchain.document_loaders import ReadTheDocsLoader\n",
    "from langchain.vectorstores.faiss import FAISS\n",
    "from langchain.embeddings import ollama\n",
    "import pickle\n",
    "\n",
    "\n",
    "# paper_pdf = \"/home/rubel/Downloads/delete_2/papers/152101_1_online.pdf\"\n",
    "paper_pdf = \"/home/rubel/Downloads/delete_2/fairmat-nfdi.github.io\"\n"
   ]
  },
  {
   "cell_type": "code",
   "execution_count": 71,
   "id": "e6be1493-0bbd-476f-95cd-08daed686f0f",
   "metadata": {},
   "outputs": [],
   "source": [
    "# Read the pdf\n",
    "\n",
    "paper_pdf_ = \"/home/rubel/Downloads/delete_2/papers/152101_1_online.pdf\"\n",
    "\n",
    "\n",
    "from langchain_community.document_loaders import PyPDFLoader\n",
    "\n",
    "loader = PyPDFLoader(paper_pdf_)\n",
    "pages = loader.load_and_split()\n",
    "\n",
    "text = \"\"\n",
    "for page in pages:\n",
    "    text += page.page_content"
   ]
  },
  {
   "cell_type": "code",
   "execution_count": 72,
   "id": "1ce04839-4c97-4336-9e85-c3816d37c57a",
   "metadata": {},
   "outputs": [],
   "source": []
  },
  {
   "cell_type": "code",
   "execution_count": 70,
   "id": "c3678e3b-5ef6-477a-9d59-bd67a74f7862",
   "metadata": {},
   "outputs": [],
   "source": [
    "text_file = \"text.txt\"\n",
    "\n",
    "with open(text_file, mode='w') as f:\n",
    "    f.write(text)\n",
    "    "
   ]
  },
  {
   "cell_type": "code",
   "execution_count": null,
   "id": "4275087f-9e5a-409a-b9a5-9d1d8a56fb99",
   "metadata": {},
   "outputs": [],
   "source": [
    "text"
   ]
  },
  {
   "cell_type": "code",
   "execution_count": null,
   "id": "84c8df9b-c8fa-4fab-970e-a02f6c39d19c",
   "metadata": {},
   "outputs": [],
   "source": []
  }
 ],
 "metadata": {
  "kernelspec": {
   "display_name": "Python 3 (ipykernel)",
   "language": "python",
   "name": "python3"
  },
  "language_info": {
   "codemirror_mode": {
    "name": "ipython",
    "version": 3
   },
   "file_extension": ".py",
   "mimetype": "text/x-python",
   "name": "python",
   "nbconvert_exporter": "python",
   "pygments_lexer": "ipython3",
   "version": "3.11.9"
  }
 },
 "nbformat": 4,
 "nbformat_minor": 5
}
